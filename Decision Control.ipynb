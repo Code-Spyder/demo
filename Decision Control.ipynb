{
 "cells": [
  {
   "cell_type": "code",
   "execution_count": 3,
   "id": "1cb289ae",
   "metadata": {},
   "outputs": [
    {
     "name": "stdout",
     "output_type": "stream",
     "text": [
      "Hello\n",
      "ODD\n"
     ]
    }
   ],
   "source": [
    "# To chk given number is even or odd\n",
    "number = 113\n",
    "if number%2==0:\n",
    "    print('Hi')\n",
    "    print('EVEN')\n",
    "else:\n",
    "    print('Hello')\n",
    "    print('ODD')\n"
   ]
  },
  {
   "cell_type": "code",
   "execution_count": 5,
   "id": "ada2689b",
   "metadata": {},
   "outputs": [
    {
     "name": "stdout",
     "output_type": "stream",
     "text": [
      "Welcome\n",
      "B is greater\n",
      "Bye\n"
     ]
    }
   ],
   "source": [
    "a = 10\n",
    "b = 20\n",
    "print('Welcome')\n",
    "if a>b:\n",
    "    print('A is greater')\n",
    "else:\n",
    "    print('B is greater')\n",
    "print('Bye')"
   ]
  },
  {
   "cell_type": "code",
   "execution_count": 7,
   "id": "6ec42b69",
   "metadata": {},
   "outputs": [
    {
     "name": "stdout",
     "output_type": "stream",
     "text": [
      "20\n"
     ]
    }
   ],
   "source": [
    "a = 20\n",
    "if a>40:\n",
    "    a = a+5\n",
    "print(a)"
   ]
  },
  {
   "cell_type": "code",
   "execution_count": 11,
   "id": "79071afe",
   "metadata": {},
   "outputs": [
    {
     "name": "stdout",
     "output_type": "stream",
     "text": [
      "c is greatest\n",
      "Bye\n"
     ]
    }
   ],
   "source": [
    "a,b,c = 40,55,222\n",
    "if a>b and a>c:\n",
    "    print('a is greatest')\n",
    "else:\n",
    "    if b>c:\n",
    "        print('b is greatest')\n",
    "    else:\n",
    "        print('c is greatest')\n",
    "print('Bye')"
   ]
  },
  {
   "cell_type": "code",
   "execution_count": 6,
   "id": "0ee0593f",
   "metadata": {},
   "outputs": [
    {
     "name": "stdout",
     "output_type": "stream",
     "text": [
      "Fail\n"
     ]
    }
   ],
   "source": [
    "# To print the grade\n",
    "marks = 59\n",
    "if marks>=90 and marks<=100:\n",
    "    print('A')\n",
    "if marks>=80 and marks<90:\n",
    "    print('B')\n",
    "if marks>=70 and marks<80:\n",
    "    print('C')\n",
    "if marks>=60 and marks<70:\n",
    "    print('D')\n",
    "if marks<60:\n",
    "    print('Fail')"
   ]
  },
  {
   "cell_type": "code",
   "execution_count": 11,
   "id": "b28038cc",
   "metadata": {},
   "outputs": [
    {
     "name": "stdout",
     "output_type": "stream",
     "text": [
      "Kid\n"
     ]
    }
   ],
   "source": [
    "age = 14\n",
    "if age<18:\n",
    "    print('Kid')\n",
    "else:\n",
    "    if age<55:\n",
    "        print('Young')\n",
    "    else:\n",
    "        if age<80:\n",
    "            print('Old')\n",
    "        else:\n",
    "            print('PRANAM')"
   ]
  },
  {
   "cell_type": "code",
   "execution_count": null,
   "id": "3c75deb1",
   "metadata": {},
   "outputs": [],
   "source": [
    "age = 14\n",
    "if age<18:\n",
    "    print('Kid')\n",
    "elif age<55:\n",
    "    print('Young')\n",
    "elif age<80:\n",
    "    print('Old')\n",
    "else:\n",
    "    print('PRANAM')"
   ]
  },
  {
   "cell_type": "code",
   "execution_count": 3,
   "id": "b92981be",
   "metadata": {},
   "outputs": [
    {
     "name": "stdout",
     "output_type": "stream",
     "text": [
      "A\n"
     ]
    }
   ],
   "source": [
    "marks = 97\n",
    "if marks>=90:\n",
    "    print('A')\n",
    "elif marks>=80:\n",
    "    print('B')\n",
    "elif marks>=70:\n",
    "    print('C')\n",
    "elif marks>=60:\n",
    "    print('D')\n",
    "else:\n",
    "    print('Fail')"
   ]
  },
  {
   "cell_type": "code",
   "execution_count": null,
   "id": "6efbf694",
   "metadata": {},
   "outputs": [],
   "source": []
  }
 ],
 "metadata": {
  "kernelspec": {
   "display_name": "Python 3",
   "language": "python",
   "name": "python3"
  },
  "language_info": {
   "codemirror_mode": {
    "name": "ipython",
    "version": 3
   },
   "file_extension": ".py",
   "mimetype": "text/x-python",
   "name": "python",
   "nbconvert_exporter": "python",
   "pygments_lexer": "ipython3",
   "version": "3.8.8"
  }
 },
 "nbformat": 4,
 "nbformat_minor": 5
}
